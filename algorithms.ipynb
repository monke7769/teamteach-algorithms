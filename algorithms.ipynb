{
 "cells": [
  {
   "cell_type": "markdown",
   "metadata": {},
   "source": [
    "### Fibonacci Sequence\n",
    "Prints the first n fibonacci numbers in a list\n",
    "Constraints: n > 1"
   ]
  },
  {
   "cell_type": "code",
   "execution_count": 4,
   "metadata": {},
   "outputs": [
    {
     "name": "stdout",
     "output_type": "stream",
     "text": [
      "[0, 1, 1, 2, 3, 5, 8, 13]\n"
     ]
    }
   ],
   "source": [
    "f0 = 0\n",
    "f1 = 1\n",
    "fiblist = [f0,f1]\n",
    "r = int(input(\"How many items do you want in your fibonacci sequence? Enter a number 2 or greater\"))\n",
    "for i in range(r-2):\n",
    "    x = fiblist[-1]\n",
    "    y = fiblist[-2]\n",
    "    fiblist.append(x+y)\n",
    "print(fiblist)"
   ]
  },
  {
   "cell_type": "markdown",
   "metadata": {},
   "source": [
    "### Palindrome\n",
    "Takes user input and converts to a palindrome by duplicating the string backwards.\n",
    "Users can choose to duplicate last character or not.\n",
    "\n",
    "Constraints: defaults to no duplication unless user types exactly \"yes\""
   ]
  },
  {
   "cell_type": "code",
   "execution_count": 17,
   "metadata": {},
   "outputs": [
    {
     "name": "stdout",
     "output_type": "stream",
     "text": [
      "83638\n"
     ]
    }
   ],
   "source": [
    "mystr = str(input(\"Enter your string: \"))\n",
    "mybool = input(\"Would you like to duplicate the last character?\").lower()\n",
    "\n",
    "if mybool == \"yes\":\n",
    "    secondstr = mystr[::-1]\n",
    "else:\n",
    "    secondstr = mystr[:-1]\n",
    "    secondstr = secondstr[::-1]\n",
    "endresult = mystr+secondstr\n",
    "print(endresult)"
   ]
  },
  {
   "cell_type": "markdown",
   "metadata": {},
   "source": [
    "### Bubble Sort\n",
    "Sorts an array of integers in increasing order. Relatively inefficient, however."
   ]
  },
  {
   "cell_type": "code",
   "execution_count": 18,
   "metadata": {},
   "outputs": [
    {
     "name": "stdout",
     "output_type": "stream",
     "text": [
      "[1, 2, 3, 4, 5, 6]\n"
     ]
    }
   ],
   "source": [
    "array = [3,5,6,1,4,2]\n",
    "n = len(array)\n",
    "for i in range(n):\n",
    "    for j in range(0,n-i-1):\n",
    "        if array[j] > array[j+1]:\n",
    "            array[j], array[j+1] = array[j+1], array[j]\n",
    "print(array)"
   ]
  }
 ],
 "metadata": {
  "kernelspec": {
   "display_name": "Python 3",
   "language": "python",
   "name": "python3"
  },
  "language_info": {
   "codemirror_mode": {
    "name": "ipython",
    "version": 3
   },
   "file_extension": ".py",
   "mimetype": "text/x-python",
   "name": "python",
   "nbconvert_exporter": "python",
   "pygments_lexer": "ipython3",
   "version": "3.11.4"
  },
  "orig_nbformat": 4
 },
 "nbformat": 4,
 "nbformat_minor": 2
}
